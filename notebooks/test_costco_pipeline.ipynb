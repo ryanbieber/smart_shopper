{
 "cells": [
  {
   "cell_type": "code",
   "execution_count": 1,
   "metadata": {},
   "outputs": [],
   "source": [
    "import os \n",
    "os.chdir('/home/carnufex/smart_shopper')"
   ]
  },
  {
   "cell_type": "code",
   "execution_count": 2,
   "metadata": {},
   "outputs": [
    {
     "name": "stdout",
     "output_type": "stream",
     "text": [
      "\u001b[2m2025-01-12 07:24:58\u001b[0m [\u001b[32m\u001b[1minfo     \u001b[0m] \u001b[1mName: Orgain Organic Protein and Superfoods Plant Based Protein Powder, Creamy Chocolate Fudge, 2.64 lbs  , Price Min: 28.99, Price Max: 36.99, Inventory Status: in stock, Page Crumbs: \"Health & Personal Care\", \"Nutrition\", \"Protein\", SKU: 1502205\u001b[0m\n",
      "\u001b[2m2025-01-12 07:24:58\u001b[0m [\u001b[32m\u001b[1minfo     \u001b[0m] \u001b[1mName: Oral-B Smart Clean 360 Rechargeable Electric Toothbrush, 2-pack, Price Min: 69.99, Price Max: 89.99, Inventory Status: in stock, Page Crumbs: \"Health & Personal Care\", \"Personal Care\", \"Oral Care\", \"Electric & Manual Toothbrushes\", SKU: 2907391\u001b[0m\n",
      "\u001b[2m2025-01-12 07:24:58\u001b[0m [\u001b[32m\u001b[1minfo     \u001b[0m] \u001b[1mName: RoC Retinol Correxion Day or Night Cream, 2-pack, Price Min: 26.99, Price Max: 36.99, Inventory Status: in stock, Page Crumbs: \"Beauty\", \"Skin Care\", \"Moisturizers\", SKU: 1608265\u001b[0m\n",
      "\u001b[2m2025-01-12 07:24:58\u001b[0m [\u001b[32m\u001b[1minfo     \u001b[0m] \u001b[1mName: Pure Protein Bars, Variety Pack, 1.76 oz, 23-count, Price Min: 20.99, Price Max: 27.99, Inventory Status: in stock, Page Crumbs: \"Grocery & Household Essentials\", \"Snacks\", \"Protein, Breakfast & Snack Bars\", SKU: 1508436\u001b[0m\n",
      "\u001b[2m2025-01-12 07:24:58\u001b[0m [\u001b[32m\u001b[1minfo     \u001b[0m] \u001b[1mName: Sharper Image Power Percussion Pro+ Hot + Cold Percussion Massager , Price Min: 79.99, Price Max: 99.99, Inventory Status: in stock, Page Crumbs: \"Health & Personal Care\", \"Massage Equipment\", \"Massage Accessories\", SKU: 3333009\u001b[0m\n",
      "\u001b[2m2025-01-12 07:24:58\u001b[0m [\u001b[32m\u001b[1minfo     \u001b[0m] \u001b[1mName: Dr. Althea 345 Relief Cream, 1.69 fl oz, 2-pack, Price Min: 29.99, Price Max: 39.99, Inventory Status: in stock, Page Crumbs: \"Beauty\", \"Skin Care\", \"Moisturizers\", SKU: 1867458\u001b[0m\n",
      "\u001b[2m2025-01-12 07:24:58\u001b[0m [\u001b[32m\u001b[1minfo     \u001b[0m] \u001b[1mName: Nature\\'s Truth Electrolyte Gummy, 90 Count, Price Min: 19.99, Price Max: 24.99, Inventory Status: in stock, Page Crumbs: \"Health & Personal Care\", \"Vitamins, Herbals & Dietary Supplements\", \"All Vitamins & Supplements\", SKU: 1833997\u001b[0m\n",
      "\u001b[2m2025-01-12 07:24:58\u001b[0m [\u001b[32m\u001b[1minfo     \u001b[0m] \u001b[1mName: La Mer The Moisturizing Soft Cream, 2.0 oz, Price Min: 219.99, Price Max: 279.99, Inventory Status: in stock, Page Crumbs: \"Beauty\", \"Skin Care\", \"Moisturizers\", SKU: 1174123\u001b[0m\n",
      "\u001b[2m2025-01-12 07:24:58\u001b[0m [\u001b[32m\u001b[1minfo     \u001b[0m] \u001b[1mName: G2G 3-pack Peanut Butter Coconut Chocolate Protein Bars 24-count, Price Min: 39.99, Price Max: 49.99, Inventory Status: in stock, Page Crumbs: \"Grocery & Household Essentials\", \"Snacks\", \"Protein, Breakfast & Snack Bars\", SKU: 1585180\u001b[0m\n",
      "\u001b[2m2025-01-12 07:24:58\u001b[0m [\u001b[32m\u001b[1minfo     \u001b[0m] \u001b[1mName: Philips Sonicare DiamondClean Connected Rechargeable Electric Toothbrush, 2-pack, Price Min: 179.99, Price Max: 279.99, Inventory Status: in stock, Page Crumbs: \"Health & Personal Care\", \"Personal Care\", \"Oral Care\", \"Electric & Manual Toothbrushes\", SKU: 3231001\u001b[0m\n",
      "\u001b[2m2025-01-12 07:24:58\u001b[0m [\u001b[32m\u001b[1minfo     \u001b[0m] \u001b[1mName: EGYPTIAN MAGIC All Purpose Skin Cream Set, Price Min: 22.99, Price Max: 32.99, Inventory Status: in stock, Page Crumbs: \"Beauty\", \"Skin Care\", \"Moisturizers\", SKU: 1302108\u001b[0m\n",
      "\u001b[2m2025-01-12 07:24:58\u001b[0m [\u001b[32m\u001b[1minfo     \u001b[0m] \u001b[1mName: Vital Proteins Marine Collagen, 14.5 oz , Price Min: 31.99, Price Max: 39.99, Inventory Status: in stock, Page Crumbs: \"Health & Personal Care\", \"Nutrition\", \"Protein\", SKU: 1688164\u001b[0m\n"
     ]
    }
   ],
   "source": [
    "from smart_shopper.stores.costco.pipeline import CostcoPipeline\n",
    "from smart_shopper.models import CostcoCategories\n",
    "\n",
    "hb = CostcoPipeline(CostcoCategories.HEALTH_BEAUTY, pages=1).run()\n",
    "# grocery = CostcoPipeline(CostcoCategories.GROCERY).run()\n",
    "# electronics = CostcoPipeline(CostcoCategories.ELECTRONICS).run()\n",
    "# home_n_decor = CostcoPipeline(CostcoCategories.HOME_AND_DECOR).run()\n",
    "# beauty = CostcoPipeline(CostcoCategories.BEAUTY).run()\n"
   ]
  },
  {
   "cell_type": "code",
   "execution_count": null,
   "metadata": {},
   "outputs": [],
   "source": []
  }
 ],
 "metadata": {
  "kernelspec": {
   "display_name": ".venv",
   "language": "python",
   "name": "python3"
  },
  "language_info": {
   "codemirror_mode": {
    "name": "ipython",
    "version": 3
   },
   "file_extension": ".py",
   "mimetype": "text/x-python",
   "name": "python",
   "nbconvert_exporter": "python",
   "pygments_lexer": "ipython3",
   "version": "3.13.1"
  }
 },
 "nbformat": 4,
 "nbformat_minor": 2
}
