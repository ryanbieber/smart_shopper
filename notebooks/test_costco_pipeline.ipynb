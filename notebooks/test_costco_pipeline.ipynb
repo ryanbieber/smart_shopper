{
 "cells": [
  {
   "cell_type": "code",
   "execution_count": 1,
   "metadata": {},
   "outputs": [],
   "source": [
    "import os \n",
    "os.chdir('/home/carnufex/smart_shopper')"
   ]
  },
  {
   "cell_type": "code",
   "execution_count": 2,
   "metadata": {},
   "outputs": [
    {
     "name": "stdout",
     "output_type": "stream",
     "text": [
      "\u001b[2m2025-01-12 19:14:17\u001b[0m [\u001b[32m\u001b[1minfo     \u001b[0m] \u001b[1mName: Orgain Organic Protein and Superfoods Plant Based Protein Powder, Vanilla Bean, 2.7 lbs, Price Min: 28.99, Price Max: 36.99, Inventory Status: in stock, Page Crumbs: \"Health & Personal Care\", \"Nutrition\", \"Protein\", SKU: 1195611\u001b[0m\n",
      "\u001b[2m2025-01-12 19:14:17\u001b[0m [\u001b[32m\u001b[1minfo     \u001b[0m] \u001b[1mName: Orgain Organic Protein and Superfoods Plant Based Protein Powder, Creamy Chocolate Fudge, 2.64 lbs  , Price Min: 28.99, Price Max: 36.99, Inventory Status: in stock, Page Crumbs: \"Health & Personal Care\", \"Nutrition\", \"Protein\", SKU: 1502205\u001b[0m\n",
      "\u001b[2m2025-01-12 19:14:17\u001b[0m [\u001b[32m\u001b[1minfo     \u001b[0m] \u001b[1mName: Kirkland Signature Nitrile Exam Gloves, 400-count, Price Min: 23.99, Price Max: 27.99, Inventory Status: in stock, Page Crumbs: \"Health & Personal Care\", \"Home Health Care\", \"First Aid\", \"First Aid Kits\", SKU: 467110\u001b[0m\n",
      "\u001b[2m2025-01-12 19:14:17\u001b[0m [\u001b[32m\u001b[1minfo     \u001b[0m] \u001b[1mName: Mr. Hyde Signature Pre-Workout Blue Razz with Creatine, 72 Servings, Price Min: 24.99, Price Max: 32.99, Inventory Status: in stock, Page Crumbs: \"Health & Personal Care\", \"Nutrition\", \"Sports Nutrition Supplements\", SKU: 1841529\u001b[0m\n",
      "\u001b[2m2025-01-12 19:14:17\u001b[0m [\u001b[32m\u001b[1minfo     \u001b[0m] \u001b[1mName: Vital Proteins Collagen Peptides, Unflavored, 1.5 lbs, Price Min: 28.99, Price Max: 34.99, Inventory Status: in stock, Page Crumbs: \"Health & Personal Care\", \"Nutrition\", \"Protein\", SKU: 1303463\u001b[0m\n",
      "\u001b[2m2025-01-12 19:14:17\u001b[0m [\u001b[32m\u001b[1minfo     \u001b[0m] \u001b[1mName: Optimum Nutrition Gold Standard 100% Whey Protein Powder, Extreme Milk Chocolate, 5.64 lbs, Price Min: 54.99, Price Max: 67.99, Inventory Status: in stock, Page Crumbs: \"Health & Personal Care\", \"Nutrition\", \"Protein\", SKU: 1243880\u001b[0m\n",
      "\u001b[2m2025-01-12 19:14:17\u001b[0m [\u001b[32m\u001b[1minfo     \u001b[0m] \u001b[1mName: Pure Protein Bars, Variety Pack, 1.76 oz, 23-count, Price Min: 20.99, Price Max: 27.99, Inventory Status: in stock, Page Crumbs: \"Grocery & Household Essentials\", \"Snacks\", \"Protein, Breakfast & Snack Bars\", SKU: 1508436\u001b[0m\n",
      "\u001b[2m2025-01-12 19:14:17\u001b[0m [\u001b[32m\u001b[1minfo     \u001b[0m] \u001b[1mName: Orgain 30g Milk Protein Shake, Chocolate Fudge, 11 fl oz, 18-pack, Price Min: 28.99, Price Max: 35.49, Inventory Status: in stock, Page Crumbs: \"Health & Personal Care\", \"Nutrition\", \"Protein\", SKU: 1798450\u001b[0m\n",
      "\u001b[2m2025-01-12 19:14:17\u001b[0m [\u001b[32m\u001b[1minfo     \u001b[0m] \u001b[1mName: Optimum Nutrition Gold Standard 100% Whey Protein Powder, Vanilla Ice Cream, 5.47 lbs, Price Min: 54.99, Price Max: 67.99, Inventory Status: in stock, Page Crumbs: \"Health & Personal Care\", \"Nutrition\", \"Protein\", SKU: 1243864\u001b[0m\n",
      "\u001b[2m2025-01-12 19:14:17\u001b[0m [\u001b[32m\u001b[1minfo     \u001b[0m] \u001b[1mName: Zipfizz Multi-Vitamin Energy Hydration Drink Mix, 30 Tubes, Price Min: 23.99, Price Max: 29.99, Inventory Status: in stock, Page Crumbs: \"Health & Personal Care\", \"Vitamins, Herbals & Dietary Supplements\", \"Adult Multi & Letter Vitamins\", SKU: 1033767\u001b[0m\n",
      "\u001b[2m2025-01-12 19:14:17\u001b[0m [\u001b[32m\u001b[1minfo     \u001b[0m] \u001b[1mName: La Mer The Moisturizing Soft Cream, 2.0 oz, Price Min: 219.99, Price Max: 279.99, Inventory Status: in stock, Page Crumbs: \"Beauty\", \"Skin Care\", \"Moisturizers\", SKU: 1174123\u001b[0m\n",
      "\u001b[2m2025-01-12 19:14:17\u001b[0m [\u001b[32m\u001b[1minfo     \u001b[0m] \u001b[1mName: G2G 3-pack Peanut Butter Coconut Chocolate Protein Bars 24-count, Price Min: 39.99, Price Max: 49.99, Inventory Status: in stock, Page Crumbs: \"Grocery & Household Essentials\", \"Snacks\", \"Protein, Breakfast & Snack Bars\", SKU: 1585180\u001b[0m\n",
      "\u001b[2m2025-01-12 19:14:17\u001b[0m [\u001b[32m\u001b[1minfo     \u001b[0m] \u001b[1mName: EGYPTIAN MAGIC All Purpose Skin Cream Set, Price Min: 22.99, Price Max: 32.99, Inventory Status: in stock, Page Crumbs: \"Beauty\", \"Skin Care\", \"Moisturizers\", SKU: 1302108\u001b[0m\n"
     ]
    }
   ],
   "source": [
    "from smart_shopper.stores.costco.pipeline import CostcoPipeline\n",
    "from smart_shopper.models import CostcoCategories\n",
    "\n",
    "hb = CostcoPipeline(CostcoCategories.HEALTH_BEAUTY, pages=1).run()\n",
    "# grocery = CostcoPipeline(CostcoCategories.GROCERY).run()\n",
    "# electronics = CostcoPipeline(CostcoCategories.ELECTRONICS).run()\n",
    "# home_n_decor = CostcoPipeline(CostcoCategories.HOME_AND_DECOR).run()\n",
    "# beauty = CostcoPipeline(CostcoCategories.BEAUTY).run()\n"
   ]
  },
  {
   "cell_type": "code",
   "execution_count": null,
   "metadata": {},
   "outputs": [],
   "source": []
  }
 ],
 "metadata": {
  "kernelspec": {
   "display_name": ".venv",
   "language": "python",
   "name": "python3"
  },
  "language_info": {
   "codemirror_mode": {
    "name": "ipython",
    "version": 3
   },
   "file_extension": ".py",
   "mimetype": "text/x-python",
   "name": "python",
   "nbconvert_exporter": "python",
   "pygments_lexer": "ipython3",
   "version": "3.13.1"
  }
 },
 "nbformat": 4,
 "nbformat_minor": 2
}
